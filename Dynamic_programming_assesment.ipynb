{
 "cells": [
  {
   "cell_type": "markdown",
   "metadata": {},
   "source": [
    "Question 1\n",
    "Problem Description:\n",
    "You are given an integer array coins representing coins of different denominations and an integer\n",
    "amount representing a total amount of money.\n",
    "Return the fewest number of coins that you need to make up that amount. If that amount of money\n",
    "cannot be made up by any combination of the coins, return -1.\n",
    "You may assume that you have an infinite number of each kind of coin.\n",
    "Input Description:\n",
    "An integer array `coins` representing coins of different denominations.\n",
    "An integer `amount` representing a total amount of money.\n",
    "Output Description:\n",
    "The fewest number of coins needed to make up the amount. If the amount cannot be made up,\n",
    "return -1.\n",
    "Examples:\n",
    "**Example 1:**\n",
    "- Input: `coins = [1, 2, 5]`, `amount = 11`\n",
    "- Output: `3`\n",
    "- Explanation: `11 = 5 + 5 + 1`\n",
    "**Example 2:**\n",
    "- Input: `coins = [2]`, `amount = 3`\n",
    "- Output: `-1`\n",
    "**Example 3:**\n",
    "- Input: `coins = [1]`, `amount = 0`\n",
    "- Output: `0`\n",
    "Constraints:\n",
    "1 <= coins.length <= 12\n",
    "1 <= coins[i] <= 2^31 - 1\n",
    "0 <= amount <= 10^4"
   ]
  },
  {
   "cell_type": "code",
   "execution_count": 2,
   "metadata": {},
   "outputs": [],
   "source": [
    "def coins_check(arr, n):\n",
    "    count = 0\n",
    "\n",
    "    if n in arr:\n",
    "        return 1\n",
    "    for i in arr:\n",
    "        if n-i !=0:\n",
    "            n = n-i\n",
    "            count +=1\n",
    "        elif n == i:\n",
    "            n = n-i\n",
    "            count += 1\n",
    "        elif n-i == 0:\n",
    "            n = 0\n",
    "            count +=1\n",
    "        elif n == 0:\n",
    "            return count\n",
    "     \n",
    "    return count if n==0 else 0"
   ]
  },
  {
   "cell_type": "code",
   "execution_count": 7,
   "metadata": {},
   "outputs": [],
   "source": [
    "# Reccursive Approach\n",
    "\n",
    "def coinChange(coins, amount):\n",
    "    if amount == 0:\n",
    "        return 0\n",
    "    \n",
    "    coin_count = float('inf')\n",
    "\n",
    "    for x in coins:\n",
    "        if amount-x >=0:\n",
    "            coin = coinChange(coins, amount-x)\n",
    "            if coin >=0:\n",
    "                coin_count = min(coin_count, coin+1)\n",
    "    \n",
    "    return coin_count if coin_count != float('inf') else -1"
   ]
  },
  {
   "cell_type": "code",
   "execution_count": 8,
   "metadata": {},
   "outputs": [
    {
     "name": "stdout",
     "output_type": "stream",
     "text": [
      "3\n",
      "-1\n",
      "0\n"
     ]
    }
   ],
   "source": [
    "#Test cases\n",
    "print(coinChange([1,2,5],11))\n",
    "print(coinChange([2],3))\n",
    "print(coinChange([1],0))"
   ]
  },
  {
   "cell_type": "markdown",
   "metadata": {},
   "source": [
    "Problem Description:\n",
    "Given a string `s`, return the longest palindromic substring in `s`.\n",
    "Input Description:\n",
    "A string `s`.\n",
    "Output Description:\n",
    "The longest palindromic substring in `s`.\n",
    "Examples:\n",
    "**Example 1:**\n",
    "- Input: `s = \"babad\"`\n",
    "- Output: `\"bab\"`\n",
    "- Explanation: `\"aba\"` is also a valid answer.\n",
    "**Example 2:**\n",
    "- Input: `s = \"cbbd\"`\n",
    "- Output: `\"bb\"`\n",
    "Constraints:\n",
    "1 <= s.length <= 1000\n",
    "s consists of only digits and English letters."
   ]
  },
  {
   "cell_type": "code",
   "execution_count": 31,
   "metadata": {},
   "outputs": [],
   "source": [
    "def longestpalindrome(s):\n",
    "    n = len(s)\n",
    "    def palindrome(a):\n",
    "        if a == a[::-1]:\n",
    "            return True\n",
    "    res = ''\n",
    "    l = 0\n",
    "\n",
    "    for i in range(n):\n",
    "        for j in range(n+1):\n",
    "            st = s[i:j]\n",
    "            if palindrome(st):\n",
    "                if len(st) > l:\n",
    "                    l = len(st)\n",
    "                    res = st\n",
    "    return res"
   ]
  },
  {
   "cell_type": "code",
   "execution_count": 33,
   "metadata": {},
   "outputs": [],
   "source": [
    "#Bruteforce aproach\n",
    "def longestpalindrome(s):\n",
    "    n = len(s)\n",
    "    def palindrome(a):\n",
    "        if a == a[::-1]:\n",
    "            return True\n",
    "    res = []\n",
    "\n",
    "    for i in range(n):\n",
    "        for j in range(i,n+1):\n",
    "            st = s[i:j]\n",
    "            if palindrome(st):\n",
    "                res.append(st)\n",
    "    return max(res, key=len)"
   ]
  },
  {
   "cell_type": "code",
   "execution_count": 35,
   "metadata": {},
   "outputs": [
    {
     "name": "stdout",
     "output_type": "stream",
     "text": [
      "bab\n",
      "bb\n",
      "babab\n"
     ]
    }
   ],
   "source": [
    "#Test Cases\n",
    "print(longestpalindrome('babad'))\n",
    "print(longestpalindrome('cbbd'))\n",
    "print(longestpalindrome('babab'))"
   ]
  },
  {
   "cell_type": "markdown",
   "metadata": {},
   "source": [
    "Problem Description:\n",
    "For a string sequence, a string word is k-repeating if word concatenated k times is a substring of\n",
    "sequence. The word's maximum k-repeating value is the highest value k where word is k-repeating\n",
    "in sequence. If word is not a substring of sequence, word's maximum k-repeating value is 0.\n",
    "Given strings sequence and word, return the maximum k-repeating value of word in sequence.\n",
    "Input Description:\n",
    "Two strings `sequence` and `word`.\n",
    "Output Description:\n",
    "The maximum k-repeating value of `word` in `sequence`.\n",
    "Examples:\n",
    "**Example 1:**\n",
    "- Input: `sequence = \"ababc\"`, `word = \"ab\"`\n",
    "- Output: `2`\n",
    "- Explanation: `\"abab\"` is a substring in `\"ababc\"`.\n",
    "**Example 2:**\n",
    "- Input: `sequence = \"ababc\"`, `word = \"ba\"`\n",
    "- Output: `1`\n",
    "- Explanation: `\"ba\"` is a substring in `\"ababc\"`. `\"baba\"` is not a substring in `\"ababc\"`.\n",
    "**Example 3:**\n",
    "- Input: `sequence = \"ababc\"`, `word = \"ac\"`\n",
    "- Output: `0`\n",
    "- Explanation: `\"ac\"` is not a substring in `\"ababc\"`.\n",
    "Constraints:\n",
    "1 <= sequence.length <= 100\n",
    "1 <= word.length <= 100\n",
    "sequence and word contain only lowercase English letters."
   ]
  },
  {
   "cell_type": "code",
   "execution_count": 11,
   "metadata": {},
   "outputs": [],
   "source": [
    "#dynamic programming\n",
    "def longest_substrinng(sequence, word):\n",
    "    a = len(sequence)\n",
    "    b = len(word)\n",
    "\n",
    "    dp = [0] * (a+1)\n",
    "\n",
    "    for i in range(b, a+1):\n",
    "        if word == sequence[i-b:i]:\n",
    "            dp[i] = dp[i-b] + 1\n",
    "\n",
    "    return max(dp)\n"
   ]
  },
  {
   "cell_type": "code",
   "execution_count": 12,
   "metadata": {},
   "outputs": [
    {
     "name": "stdout",
     "output_type": "stream",
     "text": [
      "2\n",
      "1\n",
      "0\n"
     ]
    }
   ],
   "source": [
    "#Test Cases\n",
    "print(longest_substrinng('ababc', 'ab'))\n",
    "print(longest_substrinng('abab', 'ba'))\n",
    "print(longest_substrinng('ababc', 'ac'))"
   ]
  },
  {
   "cell_type": "markdown",
   "metadata": {},
   "source": [
    "Problem Description:\n",
    "Given an integer array `nums`, find the subarray with the largest sum, and return its sum.\n",
    "Input Description:\n",
    "An integer array `nums`.\n",
    "Output Description:\n",
    "The sum of the subarray with the largest sum.\n",
    "Examples:\n",
    "**Example 1:**\n",
    "- Input: `nums = [-2, 1, -3, 4, -1, 2, 1, -5, 4]`\n",
    "- Output: `6`\n",
    "- Explanation: The subarray `[4, -1, 2, 1]` has the largest sum `6`.\n",
    "**Example 2:**\n",
    "- Input: `nums = [1]`\n",
    "- Output: `1`\n",
    "- Explanation: The subarray `[1]` has the largest sum `1`.\n",
    "**Example 3:**\n",
    "- Input: `nums = [5, 4, -1, 7, 8]`\n",
    "- Output: `23`\n",
    "- Explanation: The subarray `[5, 4, -1, 7, 8]` has the largest sum `23`.\n",
    "Constraints:\n",
    "1 <= nums.length <= 10^5\n",
    "-10^4 <= nums[i] <= 10^4"
   ]
  },
  {
   "cell_type": "code",
   "execution_count": 36,
   "metadata": {},
   "outputs": [],
   "source": [
    "def largest_sum(nums):\n",
    "\n",
    "    n = len(nums)\n",
    "    lsum = 0\n",
    "    for i in range(n):\n",
    "        for j in range(i, n+1):\n",
    "            if sum(nums[i:j]) > lsum:\n",
    "                lsum = sum(nums[i:j])\n",
    "    return lsum"
   ]
  },
  {
   "cell_type": "code",
   "execution_count": 38,
   "metadata": {},
   "outputs": [
    {
     "name": "stdout",
     "output_type": "stream",
     "text": [
      "6\n",
      "1\n",
      "23\n"
     ]
    }
   ],
   "source": [
    "#test cases\n",
    "print(largest_sum([-2, 1, -3, 4, -1, 2, 1, -5, 4]))\n",
    "print(largest_sum([1]))\n",
    "print(largest_sum([5,4,-1,7,8]))"
   ]
  },
  {
   "cell_type": "markdown",
   "metadata": {},
   "source": [
    "Problem Description:\n",
    "You are climbing a staircase. It takes `n` steps to reach the top.\n",
    "Each time you can either climb 1 or 2 steps. In how many distinct ways can you climb to the top?\n",
    "Input Description:\n",
    "An integer `n`.\n",
    "Output Description:\n",
    "The number of distinct ways to climb to the top.\n",
    "Examples:\n",
    "**Example 1:**\n",
    "- Input: `n = 2`\n",
    "- Output: `2`\n",
    "- Explanation: There are two ways to climb to the top.\n",
    "1. 1 step + 1 step\n",
    "2. 2 steps\n",
    "**Example 2:**\n",
    "- Input: `n = 3`\n",
    "- Output: `3`\n",
    "- Explanation: There are three ways to climb to the top.\n",
    "1. 1 step + 1 step + 1 step\n",
    "2. 1 step + 2 steps\n",
    "3. 2 steps + 1 step\n",
    "Constraints:\n",
    "1 <= n <= 45"
   ]
  },
  {
   "cell_type": "code",
   "execution_count": 39,
   "metadata": {},
   "outputs": [],
   "source": [
    "def stepscount(n):\n",
    "    if n==0 or n==1:\n",
    "        return 1\n",
    "    return stepscount(n-1) + stepscount(n-2)"
   ]
  },
  {
   "cell_type": "code",
   "execution_count": 40,
   "metadata": {},
   "outputs": [
    {
     "name": "stdout",
     "output_type": "stream",
     "text": [
      "2\n",
      "3\n",
      "5\n"
     ]
    }
   ],
   "source": [
    "#test casses\n",
    "print(stepscount(2))\n",
    "print(stepscount(3))\n",
    "print(stepscount(4))"
   ]
  }
 ],
 "metadata": {
  "kernelspec": {
   "display_name": "Python 3",
   "language": "python",
   "name": "python3"
  },
  "language_info": {
   "codemirror_mode": {
    "name": "ipython",
    "version": 3
   },
   "file_extension": ".py",
   "mimetype": "text/x-python",
   "name": "python",
   "nbconvert_exporter": "python",
   "pygments_lexer": "ipython3",
   "version": "3.11.4"
  }
 },
 "nbformat": 4,
 "nbformat_minor": 2
}
