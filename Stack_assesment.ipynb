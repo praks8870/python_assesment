{
 "cells": [
  {
   "cell_type": "markdown",
   "metadata": {},
   "source": [
    "1. Evaluate Reverse Polish Notation\n",
    "Problem Description:\n",
    "Evaluate the value of an arithmetic expression in Reverse Polish Notation (RPN). Valid operators are +, -, *, and /. Each\n",
    "operand may be an integer or another expression. Note that division between two integers should truncate toward zero.\n",
    "Input:\n",
    "- An array of strings tokens where tokens[i] is a valid operand or operator.\n",
    "Output:\n",
    "- Return the value of the arithmetic expression as an integer.\n",
    "Example 1:\n",
    "Input: [\"2\", \"1\", \"+\", \"3\", \"*\"]\n",
    "Output: 9\n",
    "Explanation: ((2 + 1) * 3) = 9\n",
    "Example 2:\n",
    "Input: [\"4\", \"13\", \"5\", \"/\", \"+\"]\n",
    "Output: 6\n",
    "Explanation: (4 + (13 / 5)) = 6\n",
    "Example 3:\n",
    "Input: [\"10\", \"6\", \"9\", \"3\", \"+\", \"-11\", \"*\", \"/\", \"*\", \"17\", \"+\", \"5\", \"+\"]\n",
    "Output: 22\n",
    "Explanation: \n",
    " ((10 * (6 / ((9 + 3) * -11))) + 17) + 5\n",
    "= ((10 * (6 / (12 * -11))) + 17) + 5\n",
    "= ((10 * (6 / -132)) + 17) + 5\n",
    "= ((10 * 0) + 17) + 5\n",
    "= (0 + 17) + 5\n",
    "= 22\n",
    "Constraints:\n",
    "- 1 <= tokens.length <= 10^4\n",
    "- tokens[i] is either an operator: +, -, *, or /, or an integer in the range [-200, 200]."
   ]
  },
  {
   "cell_type": "code",
   "execution_count": 21,
   "metadata": {},
   "outputs": [],
   "source": [
    "def evalRPN(tokens):\n",
    "    stack = []\n",
    "\n",
    "    for i in tokens:\n",
    "        if i == '+':\n",
    "            stack.append(stack.pop() + stack.pop())\n",
    "        elif i == '*':\n",
    "            stack.append(stack.pop() * stack.pop())\n",
    "        elif i == '-':\n",
    "            s, f = stack.pop(), stack.pop()\n",
    "            stack.append(f-s)\n",
    "        elif i == '/':\n",
    "            s, f = stack.pop(), stack.pop()\n",
    "            stack.append(int(f/s))\n",
    "        else:\n",
    "            stack.append(int(i))\n",
    "    return stack[0]"
   ]
  },
  {
   "cell_type": "code",
   "execution_count": 22,
   "metadata": {},
   "outputs": [
    {
     "name": "stdout",
     "output_type": "stream",
     "text": [
      "9\n",
      "22\n",
      "6\n"
     ]
    }
   ],
   "source": [
    "print(evalRPN([\"2\", \"1\", \"+\", \"3\", \"*\"]))\n",
    "print(evalRPN([\"10\", \"6\", \"9\", \"3\", \"+\", \"-11\", \"*\", \"/\", \"*\", \"17\", \"+\", \"5\", \"+\"]))\n",
    "print(evalRPN([\"4\", \"13\", \"5\", \"/\", \"+\"]))"
   ]
  },
  {
   "cell_type": "markdown",
   "metadata": {},
   "source": [
    "---------------------------------------------------------------------------------------------------------"
   ]
  },
  {
   "cell_type": "markdown",
   "metadata": {},
   "source": [
    "2. Min Stack\n",
    "Problem Description:\n",
    "Design a stack that supports push, pop, top, and retrieving the minimum element in constant time.\n",
    "Implement the MinStack class:\n",
    "- MinStack(): initializes the stack object.\n",
    "- void push(int val): pushes the element val onto the stack.\n",
    "- void pop(): removes the element on the top of the stack.\n",
    "- int top(): gets the top element of the stack.\n",
    "- int getMin(): retrieves the minimum element in the stack.\n",
    "Example 1:\n",
    "MinStack minStack = new MinStack();\n",
    "minStack.push(-2);\n",
    "minStack.push(0);\n",
    "minStack.push(-3);\n",
    "minStack.getMin(); // return -3\n",
    "minStack.pop();\n",
    "minStack.top(); // return 0\n",
    "minStack.getMin(); // return -2\n",
    "Constraints:\n",
    "- -2^31 <= val <= 2^31 - 1\n",
    "- Methods pop(), top(), and getMin() operations will always be called on non-empty stacks.\n",
    "- At most 3 * 10^4 calls will be made to push, pop, top, and getMin."
   ]
  },
  {
   "cell_type": "code",
   "execution_count": 14,
   "metadata": {},
   "outputs": [],
   "source": [
    "class minstack:\n",
    "\n",
    "    def __init__(self):\n",
    "        self.stack = []\n",
    "        self.min_stack = []\n",
    "\n",
    "    def push(self, val):\n",
    "        self.stack.append(val)\n",
    "        if not self.min_stack or val <= self.min_stack[-1]:\n",
    "            self.min_stack.append(val)\n",
    "        \n",
    "    def pop(self):\n",
    "        if self.stack:\n",
    "            if self.stack[-1] == self.min_stack[-1]:\n",
    "                self.min_stack.pop()\n",
    "            self.stack.pop()\n",
    "    \n",
    "    def top(self):\n",
    "        if self.stack:\n",
    "            return self.stack[-1]\n",
    "        raise IndexError('pop from an empty stack')\n",
    "    \n",
    "    def getmin(self):\n",
    "        if self.min_stack:\n",
    "            return self.min_stack[-1]\n",
    "        raise IndexError('getting value from an empty stack')"
   ]
  },
  {
   "cell_type": "code",
   "execution_count": 16,
   "metadata": {},
   "outputs": [
    {
     "name": "stdout",
     "output_type": "stream",
     "text": [
      "-3\n",
      "0\n",
      "-2\n"
     ]
    }
   ],
   "source": [
    "#test case\n",
    "minst = minstack()\n",
    "minst.push(-2)\n",
    "minst.push(0)\n",
    "minst.push(-3)\n",
    "print(minst.getmin())\n",
    "minst.pop()\n",
    "print(minst.top())\n",
    "print(minst.getmin())"
   ]
  },
  {
   "cell_type": "markdown",
   "metadata": {},
   "source": [
    "------------------------------------------------------------------------------------------------------"
   ]
  },
  {
   "cell_type": "markdown",
   "metadata": {},
   "source": [
    "3. Daily Temperatures\n",
    "Problem Description:\n",
    "Given a list of daily temperatures T, return a list such that, for each day in the input, tells you how many days you would\n",
    "have to wait until a warmer temperature. If there is no future day for which this is possible, put 0 instead.\n",
    "Input:\n",
    "- An array of integers T representing the daily temperatures.\n",
    "Output:\n",
    "- Return an array of integers, where the ith element is the number of days you have to wait until a warmer temperature.\n",
    "If there is no future day for which this is possible, put 0 instead.\n",
    "Example 1:\n",
    "Input: [73, 74, 75, 71, 69, 72, 76, 73]\n",
    "Output: [1, 1, 4, 2, 1, 1, 0, 0]"
   ]
  },
  {
   "cell_type": "code",
   "execution_count": 17,
   "metadata": {},
   "outputs": [],
   "source": [
    "def daily_temp(temp):\n",
    "    res = [0] * len(temp)\n",
    "    stack = []\n",
    "\n",
    "    for i, j in enumerate(temp):\n",
    "        while stack and temp[stack[-1]] < j:\n",
    "            index = stack.pop()\n",
    "            res[index] = i-index\n",
    "\n",
    "        stack.append(i)\n",
    "\n",
    "    return res"
   ]
  },
  {
   "cell_type": "code",
   "execution_count": 19,
   "metadata": {},
   "outputs": [
    {
     "name": "stdout",
     "output_type": "stream",
     "text": [
      "[1, 1, 4, 2, 1, 1, 0, 0]\n"
     ]
    }
   ],
   "source": [
    "#test case\n",
    "print(daily_temp([73,74,75,71,69,72,76,73]))"
   ]
  }
 ],
 "metadata": {
  "kernelspec": {
   "display_name": "Python 3",
   "language": "python",
   "name": "python3"
  },
  "language_info": {
   "codemirror_mode": {
    "name": "ipython",
    "version": 3
   },
   "file_extension": ".py",
   "mimetype": "text/x-python",
   "name": "python",
   "nbconvert_exporter": "python",
   "pygments_lexer": "ipython3",
   "version": "3.11.4"
  }
 },
 "nbformat": 4,
 "nbformat_minor": 2
}
